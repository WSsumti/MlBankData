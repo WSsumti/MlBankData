{
 "cells": [
  {
   "attachments": {},
   "cell_type": "markdown",
   "metadata": {},
   "source": [
    "# Preprocessing"
   ]
  },
  {
   "cell_type": "code",
   "execution_count": 5,
   "metadata": {},
   "outputs": [],
   "source": [
    "import pandas as pd;\n",
    "import numpy as np;\n",
    "from pyspark.sql import SparkSession"
   ]
  },
  {
   "cell_type": "code",
   "execution_count": 6,
   "metadata": {},
   "outputs": [],
   "source": [
    "spark = SparkSession.builder.appName('BankDataPractice').getOrCreate()"
   ]
  },
  {
   "cell_type": "code",
   "execution_count": 7,
   "metadata": {},
   "outputs": [],
   "source": [
    "df = spark.read.csv('bank.csv', header=True, inferSchema=True)"
   ]
  },
  {
   "cell_type": "code",
   "execution_count": 8,
   "metadata": {},
   "outputs": [
    {
     "name": "stdout",
     "output_type": "stream",
     "text": [
      "+---+-----------+--------+---------+-------+-------+-------+----+-------+---+-----+--------+--------+-----+--------+--------+-------+\n",
      "|age|        job| marital|education|default|balance|housing|loan|contact|day|month|duration|campaign|pdays|previous|poutcome|deposit|\n",
      "+---+-----------+--------+---------+-------+-------+-------+----+-------+---+-----+--------+--------+-----+--------+--------+-------+\n",
      "| 59|     admin.| married|secondary|     no|   2343|    yes|  no|unknown|  5|  may|    1042|       1|   -1|       0| unknown|    yes|\n",
      "| 56|     admin.| married|secondary|     no|     45|     no|  no|unknown|  5|  may|    1467|       1|   -1|       0| unknown|    yes|\n",
      "| 41| technician| married|secondary|     no|   1270|    yes|  no|unknown|  5|  may|    1389|       1|   -1|       0| unknown|    yes|\n",
      "| 55|   services| married|secondary|     no|   2476|    yes|  no|unknown|  5|  may|     579|       1|   -1|       0| unknown|    yes|\n",
      "| 54|     admin.| married| tertiary|     no|    184|     no|  no|unknown|  5|  may|     673|       2|   -1|       0| unknown|    yes|\n",
      "| 42| management|  single| tertiary|     no|      0|    yes| yes|unknown|  5|  may|     562|       2|   -1|       0| unknown|    yes|\n",
      "| 56| management| married| tertiary|     no|    830|    yes| yes|unknown|  6|  may|    1201|       1|   -1|       0| unknown|    yes|\n",
      "| 60|    retired|divorced|secondary|     no|    545|    yes|  no|unknown|  6|  may|    1030|       1|   -1|       0| unknown|    yes|\n",
      "| 37| technician| married|secondary|     no|      1|    yes|  no|unknown|  6|  may|     608|       1|   -1|       0| unknown|    yes|\n",
      "| 28|   services|  single|secondary|     no|   5090|    yes|  no|unknown|  6|  may|    1297|       3|   -1|       0| unknown|    yes|\n",
      "| 38|     admin.|  single|secondary|     no|    100|    yes|  no|unknown|  7|  may|     786|       1|   -1|       0| unknown|    yes|\n",
      "| 30|blue-collar| married|secondary|     no|    309|    yes|  no|unknown|  7|  may|    1574|       2|   -1|       0| unknown|    yes|\n",
      "| 29| management| married| tertiary|     no|    199|    yes| yes|unknown|  7|  may|    1689|       4|   -1|       0| unknown|    yes|\n",
      "| 46|blue-collar|  single| tertiary|     no|    460|    yes|  no|unknown|  7|  may|    1102|       2|   -1|       0| unknown|    yes|\n",
      "| 31| technician|  single| tertiary|     no|    703|    yes|  no|unknown|  8|  may|     943|       2|   -1|       0| unknown|    yes|\n",
      "| 35| management|divorced| tertiary|     no|   3837|    yes|  no|unknown|  8|  may|    1084|       1|   -1|       0| unknown|    yes|\n",
      "| 32|blue-collar|  single|  primary|     no|    611|    yes|  no|unknown|  8|  may|     541|       3|   -1|       0| unknown|    yes|\n",
      "| 49|   services| married|secondary|     no|     -8|    yes|  no|unknown|  8|  may|    1119|       1|   -1|       0| unknown|    yes|\n",
      "| 41|     admin.| married|secondary|     no|     55|    yes|  no|unknown|  8|  may|    1120|       2|   -1|       0| unknown|    yes|\n",
      "| 49|     admin.|divorced|secondary|     no|    168|    yes| yes|unknown|  8|  may|     513|       1|   -1|       0| unknown|    yes|\n",
      "+---+-----------+--------+---------+-------+-------+-------+----+-------+---+-----+--------+--------+-----+--------+--------+-------+\n",
      "only showing top 20 rows\n",
      "\n"
     ]
    }
   ],
   "source": [
    "df.show()"
   ]
  },
  {
   "attachments": {},
   "cell_type": "markdown",
   "metadata": {},
   "source": [
    "Check cache so we can sure that we will read from disk once"
   ]
  },
  {
   "cell_type": "code",
   "execution_count": 9,
   "metadata": {},
   "outputs": [
    {
     "data": {
      "text/plain": [
       "True"
      ]
     },
     "execution_count": 9,
     "metadata": {},
     "output_type": "execute_result"
    }
   ],
   "source": [
    "df.cache()\n",
    "df.is_cached"
   ]
  },
  {
   "attachments": {},
   "cell_type": "markdown",
   "metadata": {},
   "source": [
    "Check schema"
   ]
  },
  {
   "cell_type": "code",
   "execution_count": 10,
   "metadata": {},
   "outputs": [
    {
     "name": "stdout",
     "output_type": "stream",
     "text": [
      "root\n",
      " |-- age: integer (nullable = true)\n",
      " |-- job: string (nullable = true)\n",
      " |-- marital: string (nullable = true)\n",
      " |-- education: string (nullable = true)\n",
      " |-- default: string (nullable = true)\n",
      " |-- balance: integer (nullable = true)\n",
      " |-- housing: string (nullable = true)\n",
      " |-- loan: string (nullable = true)\n",
      " |-- contact: string (nullable = true)\n",
      " |-- day: integer (nullable = true)\n",
      " |-- month: string (nullable = true)\n",
      " |-- duration: integer (nullable = true)\n",
      " |-- campaign: integer (nullable = true)\n",
      " |-- pdays: integer (nullable = true)\n",
      " |-- previous: integer (nullable = true)\n",
      " |-- poutcome: string (nullable = true)\n",
      " |-- deposit: string (nullable = true)\n",
      "\n"
     ]
    }
   ],
   "source": [
    "df.printSchema()"
   ]
  },
  {
   "attachments": {},
   "cell_type": "markdown",
   "metadata": {},
   "source": [
    "Check null values"
   ]
  },
  {
   "cell_type": "code",
   "execution_count": 11,
   "metadata": {},
   "outputs": [
    {
     "name": "stdout",
     "output_type": "stream",
     "text": [
      "+---+---+-------+---------+-------+-------+-------+----+-------+---+-----+--------+--------+-----+--------+--------+-------+\n",
      "|age|job|marital|education|default|balance|housing|loan|contact|day|month|duration|campaign|pdays|previous|poutcome|deposit|\n",
      "+---+---+-------+---------+-------+-------+-------+----+-------+---+-----+--------+--------+-----+--------+--------+-------+\n",
      "|  0|  0|      0|        0|      0|      0|      0|   0|      0|  0|    0|       0|       0|    0|       0|       0|      0|\n",
      "+---+---+-------+---------+-------+-------+-------+----+-------+---+-----+--------+--------+-----+--------+--------+-------+\n",
      "\n"
     ]
    }
   ],
   "source": [
    "from pyspark.sql.functions import col, count, when\n",
    "\n",
    "df.select([count(when(col(c).isNull() , c)).alias(c) for c in df.columns]).show()"
   ]
  },
  {
   "attachments": {},
   "cell_type": "markdown",
   "metadata": {},
   "source": [
    "Counts: "
   ]
  },
  {
   "cell_type": "code",
   "execution_count": 12,
   "metadata": {},
   "outputs": [
    {
     "data": {
      "text/plain": [
       "11162"
      ]
     },
     "execution_count": 12,
     "metadata": {},
     "output_type": "execute_result"
    }
   ],
   "source": [
    "df.count()"
   ]
  },
  {
   "attachments": {},
   "cell_type": "markdown",
   "metadata": {},
   "source": [
    "Categorical Columns: "
   ]
  },
  {
   "cell_type": "code",
   "execution_count": 13,
   "metadata": {},
   "outputs": [
    {
     "data": {
      "text/plain": [
       "['job',\n",
       " 'marital',\n",
       " 'education',\n",
       " 'default',\n",
       " 'housing',\n",
       " 'loan',\n",
       " 'contact',\n",
       " 'month',\n",
       " 'poutcome',\n",
       " 'deposit']"
      ]
     },
     "execution_count": 13,
     "metadata": {},
     "output_type": "execute_result"
    }
   ],
   "source": [
    "df[[item[0] for item in df.dtypes if item[1].startswith('string')]].columns"
   ]
  },
  {
   "cell_type": "code",
   "execution_count": 14,
   "metadata": {},
   "outputs": [],
   "source": [
    "catCols = ['job', 'marital', 'education', 'default','housing', 'loan', 'contact', 'poutcome']"
   ]
  },
  {
   "attachments": {},
   "cell_type": "markdown",
   "metadata": {},
   "source": [
    "Create pipeline to transform each categorical columns using StringIndexer and OneHotEncoded"
   ]
  },
  {
   "cell_type": "code",
   "execution_count": 15,
   "metadata": {},
   "outputs": [],
   "source": [
    "from pyspark.ml import Pipeline\n",
    "from pyspark.ml.feature import StringIndexer, OneHotEncoder\n",
    "from pyspark.ml.feature import VectorAssembler\n",
    "\n",
    "# Define stages for the pipeline\n",
    "stages = []\n",
    "for col in catCols:\n",
    "    # StringIndexer for converting categorical values to numerical indices\n",
    "    indexer = StringIndexer(inputCol=col, outputCol=col + \"_index\")\n",
    "    \n",
    "    # OneHotEncoder for converting numerical indices to binary vectors\n",
    "    encoder = OneHotEncoder(dropLast=False,inputCols=[indexer.getOutputCol()], outputCols=[col + \"_onehot\"])\n",
    "    \n",
    "    stages += [indexer, encoder]\n",
    "\n",
    "# Assemble all OneHotEncoded columns into a single feature vector\n",
    "assembler = VectorAssembler(inputCols=[col + \"_onehot\" for col in catCols],\n",
    "                            outputCol=\"features\")\n",
    "\n",
    "# Add the VectorAssembler stage to the pipeline\n",
    "stages.append(assembler)\n",
    "\n",
    "# Create the pipeline\n",
    "pipeline = Pipeline(stages=stages)\n",
    "\n",
    "# Fit the pipeline to the DataFrame\n",
    "pipelineModel = pipeline.fit(df)\n",
    "\n",
    "# Apply the transformation to the DataFrame\n",
    "transformed_df = pipelineModel.transform(df)\n",
    "\n",
    "\n"
   ]
  },
  {
   "attachments": {},
   "cell_type": "markdown",
   "metadata": {},
   "source": [
    "After transform: "
   ]
  },
  {
   "cell_type": "code",
   "execution_count": 16,
   "metadata": {},
   "outputs": [
    {
     "name": "stdout",
     "output_type": "stream",
     "text": [
      "+---+----------+-------+---------+-------+-------+-------+----+-------+---+-----+--------+--------+-----+--------+--------+-------+---------+--------------+-------------+--------------+---------------+----------------+-------------+--------------+-------------+--------------+----------+-------------+-------------+--------------+--------------+---------------+--------------------+\n",
      "|age|       job|marital|education|default|balance|housing|loan|contact|day|month|duration|campaign|pdays|previous|poutcome|deposit|job_index|    job_onehot|marital_index|marital_onehot|education_index|education_onehot|default_index|default_onehot|housing_index|housing_onehot|loan_index|  loan_onehot|contact_index|contact_onehot|poutcome_index|poutcome_onehot|            features|\n",
      "+---+----------+-------+---------+-------+-------+-------+----+-------+---+-----+--------+--------+-----+--------+--------+-------+---------+--------------+-------------+--------------+---------------+----------------+-------------+--------------+-------------+--------------+----------+-------------+-------------+--------------+--------------+---------------+--------------------+\n",
      "| 59|    admin.|married|secondary|     no|   2343|    yes|  no|unknown|  5|  may|    1042|       1|   -1|       0| unknown|    yes|      3.0|(12,[3],[1.0])|          0.0| (3,[0],[1.0])|            0.0|   (4,[0],[1.0])|          0.0| (2,[0],[1.0])|          1.0| (2,[1],[1.0])|       0.0|(2,[0],[1.0])|          1.0| (3,[1],[1.0])|           0.0|  (4,[0],[1.0])|(32,[3,12,15,19,2...|\n",
      "| 56|    admin.|married|secondary|     no|     45|     no|  no|unknown|  5|  may|    1467|       1|   -1|       0| unknown|    yes|      3.0|(12,[3],[1.0])|          0.0| (3,[0],[1.0])|            0.0|   (4,[0],[1.0])|          0.0| (2,[0],[1.0])|          0.0| (2,[0],[1.0])|       0.0|(2,[0],[1.0])|          1.0| (3,[1],[1.0])|           0.0|  (4,[0],[1.0])|(32,[3,12,15,19,2...|\n",
      "| 41|technician|married|secondary|     no|   1270|    yes|  no|unknown|  5|  may|    1389|       1|   -1|       0| unknown|    yes|      2.0|(12,[2],[1.0])|          0.0| (3,[0],[1.0])|            0.0|   (4,[0],[1.0])|          0.0| (2,[0],[1.0])|          1.0| (2,[1],[1.0])|       0.0|(2,[0],[1.0])|          1.0| (3,[1],[1.0])|           0.0|  (4,[0],[1.0])|(32,[2,12,15,19,2...|\n",
      "| 55|  services|married|secondary|     no|   2476|    yes|  no|unknown|  5|  may|     579|       1|   -1|       0| unknown|    yes|      4.0|(12,[4],[1.0])|          0.0| (3,[0],[1.0])|            0.0|   (4,[0],[1.0])|          0.0| (2,[0],[1.0])|          1.0| (2,[1],[1.0])|       0.0|(2,[0],[1.0])|          1.0| (3,[1],[1.0])|           0.0|  (4,[0],[1.0])|(32,[4,12,15,19,2...|\n",
      "| 54|    admin.|married| tertiary|     no|    184|     no|  no|unknown|  5|  may|     673|       2|   -1|       0| unknown|    yes|      3.0|(12,[3],[1.0])|          0.0| (3,[0],[1.0])|            1.0|   (4,[1],[1.0])|          0.0| (2,[0],[1.0])|          0.0| (2,[0],[1.0])|       0.0|(2,[0],[1.0])|          1.0| (3,[1],[1.0])|           0.0|  (4,[0],[1.0])|(32,[3,12,16,19,2...|\n",
      "+---+----------+-------+---------+-------+-------+-------+----+-------+---+-----+--------+--------+-----+--------+--------+-------+---------+--------------+-------------+--------------+---------------+----------------+-------------+--------------+-------------+--------------+----------+-------------+-------------+--------------+--------------+---------------+--------------------+\n",
      "only showing top 5 rows\n",
      "\n"
     ]
    }
   ],
   "source": [
    "transformed_df.show(5)   "
   ]
  },
  {
   "cell_type": "code",
   "execution_count": 17,
   "metadata": {},
   "outputs": [
    {
     "name": "stdout",
     "output_type": "stream",
     "text": [
      "root\n",
      " |-- age: integer (nullable = true)\n",
      " |-- job: string (nullable = true)\n",
      " |-- marital: string (nullable = true)\n",
      " |-- education: string (nullable = true)\n",
      " |-- default: string (nullable = true)\n",
      " |-- balance: integer (nullable = true)\n",
      " |-- housing: string (nullable = true)\n",
      " |-- loan: string (nullable = true)\n",
      " |-- contact: string (nullable = true)\n",
      " |-- day: integer (nullable = true)\n",
      " |-- month: string (nullable = true)\n",
      " |-- duration: integer (nullable = true)\n",
      " |-- campaign: integer (nullable = true)\n",
      " |-- pdays: integer (nullable = true)\n",
      " |-- previous: integer (nullable = true)\n",
      " |-- poutcome: string (nullable = true)\n",
      " |-- deposit: string (nullable = true)\n",
      " |-- job_index: double (nullable = false)\n",
      " |-- job_onehot: vector (nullable = true)\n",
      " |-- marital_index: double (nullable = false)\n",
      " |-- marital_onehot: vector (nullable = true)\n",
      " |-- education_index: double (nullable = false)\n",
      " |-- education_onehot: vector (nullable = true)\n",
      " |-- default_index: double (nullable = false)\n",
      " |-- default_onehot: vector (nullable = true)\n",
      " |-- housing_index: double (nullable = false)\n",
      " |-- housing_onehot: vector (nullable = true)\n",
      " |-- loan_index: double (nullable = false)\n",
      " |-- loan_onehot: vector (nullable = true)\n",
      " |-- contact_index: double (nullable = false)\n",
      " |-- contact_onehot: vector (nullable = true)\n",
      " |-- poutcome_index: double (nullable = false)\n",
      " |-- poutcome_onehot: vector (nullable = true)\n",
      " |-- features: vector (nullable = true)\n",
      "\n"
     ]
    }
   ],
   "source": [
    "transformed_df.printSchema()"
   ]
  },
  {
   "attachments": {},
   "cell_type": "markdown",
   "metadata": {},
   "source": [
    "# Machine learning:\n",
    "Split the data in to 7 - 3"
   ]
  },
  {
   "cell_type": "code",
   "execution_count": 18,
   "metadata": {},
   "outputs": [],
   "source": [
    "(train, test) = transformed_df.randomSplit([0.7, 0.3],seed = 11)"
   ]
  },
  {
   "cell_type": "code",
   "execution_count": 19,
   "metadata": {},
   "outputs": [
    {
     "name": "stdout",
     "output_type": "stream",
     "text": [
      "+---+-------+-------+---------+-------+-------+-------+----+--------+---+-----+--------+--------+-----+--------+--------+-------+---------+--------------+-------------+--------------+---------------+----------------+-------------+--------------+-------------+--------------+----------+-------------+-------------+--------------+--------------+---------------+--------------------+\n",
      "|age|    job|marital|education|default|balance|housing|loan| contact|day|month|duration|campaign|pdays|previous|poutcome|deposit|job_index|    job_onehot|marital_index|marital_onehot|education_index|education_onehot|default_index|default_onehot|housing_index|housing_onehot|loan_index|  loan_onehot|contact_index|contact_onehot|poutcome_index|poutcome_onehot|            features|\n",
      "+---+-------+-------+---------+-------+-------+-------+----+--------+---+-----+--------+--------+-----+--------+--------+-------+---------+--------------+-------------+--------------+---------------+----------------+-------------+--------------+-------------+--------------+----------+-------------+-------------+--------------+--------------+---------------+--------------------+\n",
      "| 18|student| single|  primary|     no|    608|     no|  no|cellular| 12|  aug|     267|       1|   -1|       0| unknown|    yes|      7.0|(12,[7],[1.0])|          1.0| (3,[1],[1.0])|            2.0|   (4,[2],[1.0])|          0.0| (2,[0],[1.0])|          0.0| (2,[0],[1.0])|       0.0|(2,[0],[1.0])|          0.0| (3,[0],[1.0])|           0.0|  (4,[0],[1.0])|(32,[7,13,17,19,2...|\n",
      "| 18|student| single|  primary|     no|    608|     no|  no|cellular| 13|  nov|     210|       1|   93|       1| success|    yes|      7.0|(12,[7],[1.0])|          1.0| (3,[1],[1.0])|            2.0|   (4,[2],[1.0])|          0.0| (2,[0],[1.0])|          0.0| (2,[0],[1.0])|       0.0|(2,[0],[1.0])|          0.0| (3,[0],[1.0])|           2.0|  (4,[2],[1.0])|(32,[7,13,17,19,2...|\n",
      "| 18|student| single|secondary|     no|      5|     no|  no|cellular| 24|  aug|     143|       2|   -1|       0| unknown|     no|      7.0|(12,[7],[1.0])|          1.0| (3,[1],[1.0])|            0.0|   (4,[0],[1.0])|          0.0| (2,[0],[1.0])|          0.0| (2,[0],[1.0])|       0.0|(2,[0],[1.0])|          0.0| (3,[0],[1.0])|           0.0|  (4,[0],[1.0])|(32,[7,13,15,19,2...|\n",
      "| 18|student| single|  unknown|     no|      3|     no|  no|cellular| 25|  aug|     130|       2|   -1|       0| unknown|    yes|      7.0|(12,[7],[1.0])|          1.0| (3,[1],[1.0])|            3.0|   (4,[3],[1.0])|          0.0| (2,[0],[1.0])|          0.0| (2,[0],[1.0])|       0.0|(2,[0],[1.0])|          0.0| (3,[0],[1.0])|           0.0|  (4,[0],[1.0])|(32,[7,13,18,19,2...|\n",
      "| 18|student| single|  unknown|     no|    108|     no|  no|cellular|  8|  sep|     169|       1|   -1|       0| unknown|    yes|      7.0|(12,[7],[1.0])|          1.0| (3,[1],[1.0])|            3.0|   (4,[3],[1.0])|          0.0| (2,[0],[1.0])|          0.0| (2,[0],[1.0])|       0.0|(2,[0],[1.0])|          0.0| (3,[0],[1.0])|           0.0|  (4,[0],[1.0])|(32,[7,13,18,19,2...|\n",
      "+---+-------+-------+---------+-------+-------+-------+----+--------+---+-----+--------+--------+-----+--------+--------+-------+---------+--------------+-------------+--------------+---------------+----------------+-------------+--------------+-------------+--------------+----------+-------------+-------------+--------------+--------------+---------------+--------------------+\n",
      "only showing top 5 rows\n",
      "\n"
     ]
    }
   ],
   "source": [
    "train.show(5)"
   ]
  },
  {
   "cell_type": "code",
   "execution_count": 20,
   "metadata": {},
   "outputs": [
    {
     "name": "stdout",
     "output_type": "stream",
     "text": [
      "+---+-------+-------+---------+-------+-------+-------+----+---------+---+-----+--------+--------+-----+--------+--------+-------+---------+--------------+-------------+--------------+---------------+----------------+-------------+--------------+-------------+--------------+----------+-------------+-------------+--------------+--------------+---------------+--------------------+\n",
      "|age|    job|marital|education|default|balance|housing|loan|  contact|day|month|duration|campaign|pdays|previous|poutcome|deposit|job_index|    job_onehot|marital_index|marital_onehot|education_index|education_onehot|default_index|default_onehot|housing_index|housing_onehot|loan_index|  loan_onehot|contact_index|contact_onehot|poutcome_index|poutcome_onehot|            features|\n",
      "+---+-------+-------+---------+-------+-------+-------+----+---------+---+-----+--------+--------+-----+--------+--------+-------+---------+--------------+-------------+--------------+---------------+----------------+-------------+--------------+-------------+--------------+----------+-------------+-------------+--------------+--------------+---------------+--------------------+\n",
      "| 18|student| single|  unknown|     no|    108|     no|  no| cellular|  9|  feb|      92|       1|  183|       1| success|    yes|      7.0|(12,[7],[1.0])|          1.0| (3,[1],[1.0])|            3.0|   (4,[3],[1.0])|          0.0| (2,[0],[1.0])|          0.0| (2,[0],[1.0])|       0.0|(2,[0],[1.0])|          0.0| (3,[0],[1.0])|           2.0|  (4,[2],[1.0])|(32,[7,13,18,19,2...|\n",
      "| 18|student| single|  unknown|     no|    108|     no|  no| cellular| 10|  aug|     167|       1|   -1|       0| unknown|    yes|      7.0|(12,[7],[1.0])|          1.0| (3,[1],[1.0])|            3.0|   (4,[3],[1.0])|          0.0| (2,[0],[1.0])|          0.0| (2,[0],[1.0])|       0.0|(2,[0],[1.0])|          0.0| (3,[0],[1.0])|           0.0|  (4,[0],[1.0])|(32,[7,13,18,19,2...|\n",
      "| 19|student| single|secondary|     no|     55|     no|  no|telephone|  6|  oct|      89|       2|  193|       1|   other|     no|      7.0|(12,[7],[1.0])|          1.0| (3,[1],[1.0])|            0.0|   (4,[0],[1.0])|          0.0| (2,[0],[1.0])|          0.0| (2,[0],[1.0])|       0.0|(2,[0],[1.0])|          2.0| (3,[2],[1.0])|           3.0|  (4,[3],[1.0])|(32,[7,13,15,19,2...|\n",
      "| 19|student| single|secondary|     no|    302|     no|  no| cellular| 16|  jul|     205|       1|   -1|       0| unknown|    yes|      7.0|(12,[7],[1.0])|          1.0| (3,[1],[1.0])|            0.0|   (4,[0],[1.0])|          0.0| (2,[0],[1.0])|          0.0| (2,[0],[1.0])|       0.0|(2,[0],[1.0])|          0.0| (3,[0],[1.0])|           0.0|  (4,[0],[1.0])|(32,[7,13,15,19,2...|\n",
      "| 19|student| single|secondary|     no|    329|     no|  no| cellular| 22|  oct|     252|       2|   -1|       0| unknown|    yes|      7.0|(12,[7],[1.0])|          1.0| (3,[1],[1.0])|            0.0|   (4,[0],[1.0])|          0.0| (2,[0],[1.0])|          0.0| (2,[0],[1.0])|       0.0|(2,[0],[1.0])|          0.0| (3,[0],[1.0])|           0.0|  (4,[0],[1.0])|(32,[7,13,15,19,2...|\n",
      "+---+-------+-------+---------+-------+-------+-------+----+---------+---+-----+--------+--------+-----+--------+--------+-------+---------+--------------+-------------+--------------+---------------+----------------+-------------+--------------+-------------+--------------+----------+-------------+-------------+--------------+--------------+---------------+--------------------+\n",
      "only showing top 5 rows\n",
      "\n"
     ]
    }
   ],
   "source": [
    "test.show(5)"
   ]
  },
  {
   "attachments": {},
   "cell_type": "markdown",
   "metadata": {},
   "source": [
    "## Modeling: "
   ]
  },
  {
   "attachments": {},
   "cell_type": "markdown",
   "metadata": {},
   "source": [
    "### Logistic Regression\n",
    "Building logistic regression model on Loans "
   ]
  },
  {
   "cell_type": "code",
   "execution_count": 21,
   "metadata": {},
   "outputs": [],
   "source": [
    "from pyspark.ml.classification import LogisticRegression\n",
    "from pyspark.ml.evaluation import MulticlassClassificationEvaluator\n",
    "lr = LogisticRegression(labelCol=\"loan_index\", featuresCol=\"features\")\n",
    "\n",
    "lrModel = lr.fit(train)\n",
    "lrPrediction = lrModel.transform(test)\n"
   ]
  },
  {
   "cell_type": "code",
   "execution_count": 22,
   "metadata": {},
   "outputs": [
    {
     "name": "stdout",
     "output_type": "stream",
     "text": [
      "+---+----------+-------+---------+-------+-------+-------+----+---------+---+-----+--------+--------+-----+--------+--------+-------+---------+--------------+-------------+--------------+---------------+----------------+-------------+--------------+-------------+--------------+----------+-------------+-------------+--------------+--------------+---------------+--------------------+--------------------+--------------------+----------+\n",
      "|age|       job|marital|education|default|balance|housing|loan|  contact|day|month|duration|campaign|pdays|previous|poutcome|deposit|job_index|    job_onehot|marital_index|marital_onehot|education_index|education_onehot|default_index|default_onehot|housing_index|housing_onehot|loan_index|  loan_onehot|contact_index|contact_onehot|poutcome_index|poutcome_onehot|            features|       rawPrediction|         probability|prediction|\n",
      "+---+----------+-------+---------+-------+-------+-------+----+---------+---+-----+--------+--------+-----+--------+--------+-------+---------+--------------+-------------+--------------+---------------+----------------+-------------+--------------+-------------+--------------+----------+-------------+-------------+--------------+--------------+---------------+--------------------+--------------------+--------------------+----------+\n",
      "| 18|   student| single|  unknown|     no|    108|     no|  no| cellular|  9|  feb|      92|       1|  183|       1| success|    yes|      7.0|(12,[7],[1.0])|          1.0| (3,[1],[1.0])|            3.0|   (4,[3],[1.0])|          0.0| (2,[0],[1.0])|          0.0| (2,[0],[1.0])|       0.0|(2,[0],[1.0])|          0.0| (3,[0],[1.0])|           2.0|  (4,[2],[1.0])|(32,[7,13,18,19,2...|[19.3854709394566...|[0.99999999618936...|       0.0|\n",
      "| 18|   student| single|  unknown|     no|    108|     no|  no| cellular| 10|  aug|     167|       1|   -1|       0| unknown|    yes|      7.0|(12,[7],[1.0])|          1.0| (3,[1],[1.0])|            3.0|   (4,[3],[1.0])|          0.0| (2,[0],[1.0])|          0.0| (2,[0],[1.0])|       0.0|(2,[0],[1.0])|          0.0| (3,[0],[1.0])|           0.0|  (4,[0],[1.0])|(32,[7,13,18,19,2...|[19.2183215717096...|[0.99999999549609...|       0.0|\n",
      "| 19|   student| single|secondary|     no|     55|     no|  no|telephone|  6|  oct|      89|       2|  193|       1|   other|     no|      7.0|(12,[7],[1.0])|          1.0| (3,[1],[1.0])|            0.0|   (4,[0],[1.0])|          0.0| (2,[0],[1.0])|          0.0| (2,[0],[1.0])|       0.0|(2,[0],[1.0])|          2.0| (3,[2],[1.0])|           3.0|  (4,[3],[1.0])|(32,[7,13,15,19,2...|[19.1873974157381...|[0.99999999535464...|       0.0|\n",
      "| 19|   student| single|secondary|     no|    302|     no|  no| cellular| 16|  jul|     205|       1|   -1|       0| unknown|    yes|      7.0|(12,[7],[1.0])|          1.0| (3,[1],[1.0])|            0.0|   (4,[0],[1.0])|          0.0| (2,[0],[1.0])|          0.0| (2,[0],[1.0])|       0.0|(2,[0],[1.0])|          0.0| (3,[0],[1.0])|           0.0|  (4,[0],[1.0])|(32,[7,13,15,19,2...|[19.0712658314122...|[0.99999999478259...|       0.0|\n",
      "| 19|   student| single|secondary|     no|    329|     no|  no| cellular| 22|  oct|     252|       2|   -1|       0| unknown|    yes|      7.0|(12,[7],[1.0])|          1.0| (3,[1],[1.0])|            0.0|   (4,[0],[1.0])|          0.0| (2,[0],[1.0])|          0.0| (2,[0],[1.0])|       0.0|(2,[0],[1.0])|          0.0| (3,[0],[1.0])|           0.0|  (4,[0],[1.0])|(32,[7,13,15,19,2...|[19.0712658314122...|[0.99999999478259...|       0.0|\n",
      "| 19|   student| single|secondary|     no|    329|     no|  no| cellular| 30|  apr|     169|       1|  190|       2| success|    yes|      7.0|(12,[7],[1.0])|          1.0| (3,[1],[1.0])|            0.0|   (4,[0],[1.0])|          0.0| (2,[0],[1.0])|          0.0| (2,[0],[1.0])|       0.0|(2,[0],[1.0])|          0.0| (3,[0],[1.0])|           2.0|  (4,[2],[1.0])|(32,[7,13,15,19,2...|[19.2384151991592...|[0.99999999558569...|       0.0|\n",
      "| 19|   student| single|secondary|     no|    394|     no|  no| cellular|  5|  apr|     327|       3|   -1|       0| unknown|    yes|      7.0|(12,[7],[1.0])|          1.0| (3,[1],[1.0])|            0.0|   (4,[0],[1.0])|          0.0| (2,[0],[1.0])|          0.0| (2,[0],[1.0])|       0.0|(2,[0],[1.0])|          0.0| (3,[0],[1.0])|           0.0|  (4,[0],[1.0])|(32,[7,13,15,19,2...|[19.0712658314122...|[0.99999999478259...|       0.0|\n",
      "| 19|   student| single|  unknown|     no|     60|     no|  no| cellular| 14|  aug|     253|       1|   -1|       0| unknown|     no|      7.0|(12,[7],[1.0])|          1.0| (3,[1],[1.0])|            3.0|   (4,[3],[1.0])|          0.0| (2,[0],[1.0])|          0.0| (2,[0],[1.0])|       0.0|(2,[0],[1.0])|          0.0| (3,[0],[1.0])|           0.0|  (4,[0],[1.0])|(32,[7,13,18,19,2...|[19.2183215717096...|[0.99999999549609...|       0.0|\n",
      "| 20|    admin.| single|secondary|     no|    336|     no| yes| cellular|  5|  jun|     133|       1|   -1|       0| unknown|     no|      3.0|(12,[3],[1.0])|          1.0| (3,[1],[1.0])|            0.0|   (4,[0],[1.0])|          0.0| (2,[0],[1.0])|          0.0| (2,[0],[1.0])|       1.0|(2,[1],[1.0])|          0.0| (3,[0],[1.0])|           0.0|  (4,[0],[1.0])|(32,[3,13,15,19,2...|[-19.815359816446...|[2.47912584955058...|       1.0|\n",
      "| 20|   student| single|  primary|     no|   6991|     no|  no| cellular| 12|  aug|     178|       2|   -1|       0| unknown|    yes|      7.0|(12,[7],[1.0])|          1.0| (3,[1],[1.0])|            2.0|   (4,[2],[1.0])|          0.0| (2,[0],[1.0])|          0.0| (2,[0],[1.0])|       0.0|(2,[0],[1.0])|          0.0| (3,[0],[1.0])|           0.0|  (4,[0],[1.0])|(32,[7,13,17,19,2...|[19.1056109321673...|[0.99999999495874...|       0.0|\n",
      "| 20|   student| single|secondary|     no|    153|     no|  no|  unknown| 21|  jun|     100|       1|   -1|       0| unknown|    yes|      7.0|(12,[7],[1.0])|          1.0| (3,[1],[1.0])|            0.0|   (4,[0],[1.0])|          0.0| (2,[0],[1.0])|          0.0| (2,[0],[1.0])|       0.0|(2,[0],[1.0])|          1.0| (3,[1],[1.0])|           0.0|  (4,[0],[1.0])|(32,[7,13,15,19,2...|[19.1228118488824...|[0.99999999504471...|       0.0|\n",
      "| 20|   student| single|secondary|     no|    215|     no|  no| cellular| 24|  nov|     325|       1|   95|       5| success|    yes|      7.0|(12,[7],[1.0])|          1.0| (3,[1],[1.0])|            0.0|   (4,[0],[1.0])|          0.0| (2,[0],[1.0])|          0.0| (2,[0],[1.0])|       0.0|(2,[0],[1.0])|          0.0| (3,[0],[1.0])|           2.0|  (4,[2],[1.0])|(32,[7,13,15,19,2...|[19.2384151991592...|[0.99999999558569...|       0.0|\n",
      "| 20|   student| single|secondary|     no|   1819|     no|  no| cellular|  9|  apr|     245|       3|   -1|       0| unknown|    yes|      7.0|(12,[7],[1.0])|          1.0| (3,[1],[1.0])|            0.0|   (4,[0],[1.0])|          0.0| (2,[0],[1.0])|          0.0| (2,[0],[1.0])|       0.0|(2,[0],[1.0])|          0.0| (3,[0],[1.0])|           0.0|  (4,[0],[1.0])|(32,[7,13,15,19,2...|[19.0712658314122...|[0.99999999478259...|       0.0|\n",
      "| 20|   student| single|  unknown|     no|    801|     no|  no| cellular| 11|  nov|     244|       2|   -1|       0| unknown|    yes|      7.0|(12,[7],[1.0])|          1.0| (3,[1],[1.0])|            3.0|   (4,[3],[1.0])|          0.0| (2,[0],[1.0])|          0.0| (2,[0],[1.0])|       0.0|(2,[0],[1.0])|          0.0| (3,[0],[1.0])|           0.0|  (4,[0],[1.0])|(32,[7,13,18,19,2...|[19.2183215717096...|[0.99999999549609...|       0.0|\n",
      "| 20|   student| single|  unknown|     no|    829|     no|  no| cellular|  9|  jul|     253|       2|   -1|       0| unknown|    yes|      7.0|(12,[7],[1.0])|          1.0| (3,[1],[1.0])|            3.0|   (4,[3],[1.0])|          0.0| (2,[0],[1.0])|          0.0| (2,[0],[1.0])|       0.0|(2,[0],[1.0])|          0.0| (3,[0],[1.0])|           0.0|  (4,[0],[1.0])|(32,[7,13,18,19,2...|[19.2183215717096...|[0.99999999549609...|       0.0|\n",
      "| 20|   student| single|  unknown|     no|    829|     no|  no| cellular| 27|  jan|     196|       3|  202|       2| success|    yes|      7.0|(12,[7],[1.0])|          1.0| (3,[1],[1.0])|            3.0|   (4,[3],[1.0])|          0.0| (2,[0],[1.0])|          0.0| (2,[0],[1.0])|       0.0|(2,[0],[1.0])|          0.0| (3,[0],[1.0])|           2.0|  (4,[2],[1.0])|(32,[7,13,18,19,2...|[19.3854709394566...|[0.99999999618936...|       0.0|\n",
      "| 21|management| single| tertiary|     no|    243|     no| yes| cellular| 17|  jun|     181|       2|   -1|       0| unknown|     no|      0.0|(12,[0],[1.0])|          1.0| (3,[1],[1.0])|            1.0|   (4,[1],[1.0])|          0.0| (2,[0],[1.0])|          0.0| (2,[0],[1.0])|       1.0|(2,[1],[1.0])|          0.0| (3,[0],[1.0])|           0.0|  (4,[0],[1.0])|(32,[0,13,16,19,2...|[-19.651212255791...|[2.92137261141697...|       1.0|\n",
      "| 21|   student| single|  primary|     no|   8278|     no|  no| cellular| 29|  oct|     445|       1|   -1|       0| unknown|    yes|      7.0|(12,[7],[1.0])|          1.0| (3,[1],[1.0])|            2.0|   (4,[2],[1.0])|          0.0| (2,[0],[1.0])|          0.0| (2,[0],[1.0])|       0.0|(2,[0],[1.0])|          0.0| (3,[0],[1.0])|           0.0|  (4,[0],[1.0])|(32,[7,13,17,19,2...|[19.1056109321673...|[0.99999999495874...|       0.0|\n",
      "| 21|   student| single|secondary|     no|    123|     no|  no|telephone| 11|  nov|     513|       1|   91|       1| success|    yes|      7.0|(12,[7],[1.0])|          1.0| (3,[1],[1.0])|            0.0|   (4,[0],[1.0])|          0.0| (2,[0],[1.0])|          0.0| (2,[0],[1.0])|       0.0|(2,[0],[1.0])|          2.0| (3,[2],[1.0])|           2.0|  (4,[2],[1.0])|(32,[7,13,15,19,2...|[19.2528406487650...|[0.99999999564891...|       0.0|\n",
      "| 21|   student| single|secondary|     no|    357|     no|  no| cellular|  2|  sep|     115|       3|   -1|       0| unknown|     no|      7.0|(12,[7],[1.0])|          1.0| (3,[1],[1.0])|            0.0|   (4,[0],[1.0])|          0.0| (2,[0],[1.0])|          0.0| (2,[0],[1.0])|       0.0|(2,[0],[1.0])|          0.0| (3,[0],[1.0])|           0.0|  (4,[0],[1.0])|(32,[7,13,15,19,2...|[19.0712658314122...|[0.99999999478259...|       0.0|\n",
      "+---+----------+-------+---------+-------+-------+-------+----+---------+---+-----+--------+--------+-----+--------+--------+-------+---------+--------------+-------------+--------------+---------------+----------------+-------------+--------------+-------------+--------------+----------+-------------+-------------+--------------+--------------+---------------+--------------------+--------------------+--------------------+----------+\n",
      "only showing top 20 rows\n",
      "\n"
     ]
    }
   ],
   "source": [
    "lrPrediction.show()"
   ]
  },
  {
   "cell_type": "code",
   "execution_count": 23,
   "metadata": {},
   "outputs": [
    {
     "name": "stdout",
     "output_type": "stream",
     "text": [
      "Accuracy of LogisticRegression is = 1\n",
      "Test Error of LogisticRegression = 0 \n"
     ]
    }
   ],
   "source": [
    "evaluator = MulticlassClassificationEvaluator(labelCol=\"loan_index\", predictionCol=\"prediction\", metricName=\"accuracy\")\n",
    "lrAccuracy = evaluator.evaluate(lrPrediction)\n",
    "print(\"Accuracy of LogisticRegression is = %g\"% (lrAccuracy))\n",
    "print(\"Test Error of LogisticRegression = %g \" % (1.0 - lrAccuracy))"
   ]
  },
  {
   "attachments": {},
   "cell_type": "markdown",
   "metadata": {},
   "source": [
    "### DecisionTreeClassifier"
   ]
  },
  {
   "cell_type": "code",
   "execution_count": 24,
   "metadata": {},
   "outputs": [],
   "source": [
    "from pyspark.ml.classification import DecisionTreeClassifier\n",
    "\n",
    "dtc = DecisionTreeClassifier(labelCol=\"loan_index\", featuresCol=\"features\")\n",
    "\n",
    "dtcModel = dtc.fit(train)\n",
    "dtcPrediction = dtcModel.transform(test)\n"
   ]
  },
  {
   "cell_type": "code",
   "execution_count": 25,
   "metadata": {},
   "outputs": [
    {
     "name": "stdout",
     "output_type": "stream",
     "text": [
      "+---+----------+-------+---------+-------+-------+-------+----+---------+---+-----+--------+--------+-----+--------+--------+-------+---------+--------------+-------------+--------------+---------------+----------------+-------------+--------------+-------------+--------------+----------+-------------+-------------+--------------+--------------+---------------+--------------------+-------------+-----------+----------+\n",
      "|age|       job|marital|education|default|balance|housing|loan|  contact|day|month|duration|campaign|pdays|previous|poutcome|deposit|job_index|    job_onehot|marital_index|marital_onehot|education_index|education_onehot|default_index|default_onehot|housing_index|housing_onehot|loan_index|  loan_onehot|contact_index|contact_onehot|poutcome_index|poutcome_onehot|            features|rawPrediction|probability|prediction|\n",
      "+---+----------+-------+---------+-------+-------+-------+----+---------+---+-----+--------+--------+-----+--------+--------+-------+---------+--------------+-------------+--------------+---------------+----------------+-------------+--------------+-------------+--------------+----------+-------------+-------------+--------------+--------------+---------------+--------------------+-------------+-----------+----------+\n",
      "| 18|   student| single|  unknown|     no|    108|     no|  no| cellular|  9|  feb|      92|       1|  183|       1| success|    yes|      7.0|(12,[7],[1.0])|          1.0| (3,[1],[1.0])|            3.0|   (4,[3],[1.0])|          0.0| (2,[0],[1.0])|          0.0| (2,[0],[1.0])|       0.0|(2,[0],[1.0])|          0.0| (3,[0],[1.0])|           2.0|  (4,[2],[1.0])|(32,[7,13,18,19,2...| [6803.0,0.0]|  [1.0,0.0]|       0.0|\n",
      "| 18|   student| single|  unknown|     no|    108|     no|  no| cellular| 10|  aug|     167|       1|   -1|       0| unknown|    yes|      7.0|(12,[7],[1.0])|          1.0| (3,[1],[1.0])|            3.0|   (4,[3],[1.0])|          0.0| (2,[0],[1.0])|          0.0| (2,[0],[1.0])|       0.0|(2,[0],[1.0])|          0.0| (3,[0],[1.0])|           0.0|  (4,[0],[1.0])|(32,[7,13,18,19,2...| [6803.0,0.0]|  [1.0,0.0]|       0.0|\n",
      "| 19|   student| single|secondary|     no|     55|     no|  no|telephone|  6|  oct|      89|       2|  193|       1|   other|     no|      7.0|(12,[7],[1.0])|          1.0| (3,[1],[1.0])|            0.0|   (4,[0],[1.0])|          0.0| (2,[0],[1.0])|          0.0| (2,[0],[1.0])|       0.0|(2,[0],[1.0])|          2.0| (3,[2],[1.0])|           3.0|  (4,[3],[1.0])|(32,[7,13,15,19,2...| [6803.0,0.0]|  [1.0,0.0]|       0.0|\n",
      "| 19|   student| single|secondary|     no|    302|     no|  no| cellular| 16|  jul|     205|       1|   -1|       0| unknown|    yes|      7.0|(12,[7],[1.0])|          1.0| (3,[1],[1.0])|            0.0|   (4,[0],[1.0])|          0.0| (2,[0],[1.0])|          0.0| (2,[0],[1.0])|       0.0|(2,[0],[1.0])|          0.0| (3,[0],[1.0])|           0.0|  (4,[0],[1.0])|(32,[7,13,15,19,2...| [6803.0,0.0]|  [1.0,0.0]|       0.0|\n",
      "| 19|   student| single|secondary|     no|    329|     no|  no| cellular| 22|  oct|     252|       2|   -1|       0| unknown|    yes|      7.0|(12,[7],[1.0])|          1.0| (3,[1],[1.0])|            0.0|   (4,[0],[1.0])|          0.0| (2,[0],[1.0])|          0.0| (2,[0],[1.0])|       0.0|(2,[0],[1.0])|          0.0| (3,[0],[1.0])|           0.0|  (4,[0],[1.0])|(32,[7,13,15,19,2...| [6803.0,0.0]|  [1.0,0.0]|       0.0|\n",
      "| 19|   student| single|secondary|     no|    329|     no|  no| cellular| 30|  apr|     169|       1|  190|       2| success|    yes|      7.0|(12,[7],[1.0])|          1.0| (3,[1],[1.0])|            0.0|   (4,[0],[1.0])|          0.0| (2,[0],[1.0])|          0.0| (2,[0],[1.0])|       0.0|(2,[0],[1.0])|          0.0| (3,[0],[1.0])|           2.0|  (4,[2],[1.0])|(32,[7,13,15,19,2...| [6803.0,0.0]|  [1.0,0.0]|       0.0|\n",
      "| 19|   student| single|secondary|     no|    394|     no|  no| cellular|  5|  apr|     327|       3|   -1|       0| unknown|    yes|      7.0|(12,[7],[1.0])|          1.0| (3,[1],[1.0])|            0.0|   (4,[0],[1.0])|          0.0| (2,[0],[1.0])|          0.0| (2,[0],[1.0])|       0.0|(2,[0],[1.0])|          0.0| (3,[0],[1.0])|           0.0|  (4,[0],[1.0])|(32,[7,13,15,19,2...| [6803.0,0.0]|  [1.0,0.0]|       0.0|\n",
      "| 19|   student| single|  unknown|     no|     60|     no|  no| cellular| 14|  aug|     253|       1|   -1|       0| unknown|     no|      7.0|(12,[7],[1.0])|          1.0| (3,[1],[1.0])|            3.0|   (4,[3],[1.0])|          0.0| (2,[0],[1.0])|          0.0| (2,[0],[1.0])|       0.0|(2,[0],[1.0])|          0.0| (3,[0],[1.0])|           0.0|  (4,[0],[1.0])|(32,[7,13,18,19,2...| [6803.0,0.0]|  [1.0,0.0]|       0.0|\n",
      "| 20|    admin.| single|secondary|     no|    336|     no| yes| cellular|  5|  jun|     133|       1|   -1|       0| unknown|     no|      3.0|(12,[3],[1.0])|          1.0| (3,[1],[1.0])|            0.0|   (4,[0],[1.0])|          0.0| (2,[0],[1.0])|          0.0| (2,[0],[1.0])|       1.0|(2,[1],[1.0])|          0.0| (3,[0],[1.0])|           0.0|  (4,[0],[1.0])|(32,[3,13,15,19,2...| [0.0,1022.0]|  [0.0,1.0]|       1.0|\n",
      "| 20|   student| single|  primary|     no|   6991|     no|  no| cellular| 12|  aug|     178|       2|   -1|       0| unknown|    yes|      7.0|(12,[7],[1.0])|          1.0| (3,[1],[1.0])|            2.0|   (4,[2],[1.0])|          0.0| (2,[0],[1.0])|          0.0| (2,[0],[1.0])|       0.0|(2,[0],[1.0])|          0.0| (3,[0],[1.0])|           0.0|  (4,[0],[1.0])|(32,[7,13,17,19,2...| [6803.0,0.0]|  [1.0,0.0]|       0.0|\n",
      "| 20|   student| single|secondary|     no|    153|     no|  no|  unknown| 21|  jun|     100|       1|   -1|       0| unknown|    yes|      7.0|(12,[7],[1.0])|          1.0| (3,[1],[1.0])|            0.0|   (4,[0],[1.0])|          0.0| (2,[0],[1.0])|          0.0| (2,[0],[1.0])|       0.0|(2,[0],[1.0])|          1.0| (3,[1],[1.0])|           0.0|  (4,[0],[1.0])|(32,[7,13,15,19,2...| [6803.0,0.0]|  [1.0,0.0]|       0.0|\n",
      "| 20|   student| single|secondary|     no|    215|     no|  no| cellular| 24|  nov|     325|       1|   95|       5| success|    yes|      7.0|(12,[7],[1.0])|          1.0| (3,[1],[1.0])|            0.0|   (4,[0],[1.0])|          0.0| (2,[0],[1.0])|          0.0| (2,[0],[1.0])|       0.0|(2,[0],[1.0])|          0.0| (3,[0],[1.0])|           2.0|  (4,[2],[1.0])|(32,[7,13,15,19,2...| [6803.0,0.0]|  [1.0,0.0]|       0.0|\n",
      "| 20|   student| single|secondary|     no|   1819|     no|  no| cellular|  9|  apr|     245|       3|   -1|       0| unknown|    yes|      7.0|(12,[7],[1.0])|          1.0| (3,[1],[1.0])|            0.0|   (4,[0],[1.0])|          0.0| (2,[0],[1.0])|          0.0| (2,[0],[1.0])|       0.0|(2,[0],[1.0])|          0.0| (3,[0],[1.0])|           0.0|  (4,[0],[1.0])|(32,[7,13,15,19,2...| [6803.0,0.0]|  [1.0,0.0]|       0.0|\n",
      "| 20|   student| single|  unknown|     no|    801|     no|  no| cellular| 11|  nov|     244|       2|   -1|       0| unknown|    yes|      7.0|(12,[7],[1.0])|          1.0| (3,[1],[1.0])|            3.0|   (4,[3],[1.0])|          0.0| (2,[0],[1.0])|          0.0| (2,[0],[1.0])|       0.0|(2,[0],[1.0])|          0.0| (3,[0],[1.0])|           0.0|  (4,[0],[1.0])|(32,[7,13,18,19,2...| [6803.0,0.0]|  [1.0,0.0]|       0.0|\n",
      "| 20|   student| single|  unknown|     no|    829|     no|  no| cellular|  9|  jul|     253|       2|   -1|       0| unknown|    yes|      7.0|(12,[7],[1.0])|          1.0| (3,[1],[1.0])|            3.0|   (4,[3],[1.0])|          0.0| (2,[0],[1.0])|          0.0| (2,[0],[1.0])|       0.0|(2,[0],[1.0])|          0.0| (3,[0],[1.0])|           0.0|  (4,[0],[1.0])|(32,[7,13,18,19,2...| [6803.0,0.0]|  [1.0,0.0]|       0.0|\n",
      "| 20|   student| single|  unknown|     no|    829|     no|  no| cellular| 27|  jan|     196|       3|  202|       2| success|    yes|      7.0|(12,[7],[1.0])|          1.0| (3,[1],[1.0])|            3.0|   (4,[3],[1.0])|          0.0| (2,[0],[1.0])|          0.0| (2,[0],[1.0])|       0.0|(2,[0],[1.0])|          0.0| (3,[0],[1.0])|           2.0|  (4,[2],[1.0])|(32,[7,13,18,19,2...| [6803.0,0.0]|  [1.0,0.0]|       0.0|\n",
      "| 21|management| single| tertiary|     no|    243|     no| yes| cellular| 17|  jun|     181|       2|   -1|       0| unknown|     no|      0.0|(12,[0],[1.0])|          1.0| (3,[1],[1.0])|            1.0|   (4,[1],[1.0])|          0.0| (2,[0],[1.0])|          0.0| (2,[0],[1.0])|       1.0|(2,[1],[1.0])|          0.0| (3,[0],[1.0])|           0.0|  (4,[0],[1.0])|(32,[0,13,16,19,2...| [0.0,1022.0]|  [0.0,1.0]|       1.0|\n",
      "| 21|   student| single|  primary|     no|   8278|     no|  no| cellular| 29|  oct|     445|       1|   -1|       0| unknown|    yes|      7.0|(12,[7],[1.0])|          1.0| (3,[1],[1.0])|            2.0|   (4,[2],[1.0])|          0.0| (2,[0],[1.0])|          0.0| (2,[0],[1.0])|       0.0|(2,[0],[1.0])|          0.0| (3,[0],[1.0])|           0.0|  (4,[0],[1.0])|(32,[7,13,17,19,2...| [6803.0,0.0]|  [1.0,0.0]|       0.0|\n",
      "| 21|   student| single|secondary|     no|    123|     no|  no|telephone| 11|  nov|     513|       1|   91|       1| success|    yes|      7.0|(12,[7],[1.0])|          1.0| (3,[1],[1.0])|            0.0|   (4,[0],[1.0])|          0.0| (2,[0],[1.0])|          0.0| (2,[0],[1.0])|       0.0|(2,[0],[1.0])|          2.0| (3,[2],[1.0])|           2.0|  (4,[2],[1.0])|(32,[7,13,15,19,2...| [6803.0,0.0]|  [1.0,0.0]|       0.0|\n",
      "| 21|   student| single|secondary|     no|    357|     no|  no| cellular|  2|  sep|     115|       3|   -1|       0| unknown|     no|      7.0|(12,[7],[1.0])|          1.0| (3,[1],[1.0])|            0.0|   (4,[0],[1.0])|          0.0| (2,[0],[1.0])|          0.0| (2,[0],[1.0])|       0.0|(2,[0],[1.0])|          0.0| (3,[0],[1.0])|           0.0|  (4,[0],[1.0])|(32,[7,13,15,19,2...| [6803.0,0.0]|  [1.0,0.0]|       0.0|\n",
      "+---+----------+-------+---------+-------+-------+-------+----+---------+---+-----+--------+--------+-----+--------+--------+-------+---------+--------------+-------------+--------------+---------------+----------------+-------------+--------------+-------------+--------------+----------+-------------+-------------+--------------+--------------+---------------+--------------------+-------------+-----------+----------+\n",
      "only showing top 20 rows\n",
      "\n"
     ]
    }
   ],
   "source": [
    "dtcPrediction.show()"
   ]
  },
  {
   "cell_type": "code",
   "execution_count": 26,
   "metadata": {},
   "outputs": [
    {
     "name": "stdout",
     "output_type": "stream",
     "text": [
      "Accuracy of LogisticRegression is = 1\n",
      "Test Error of LogisticRegression = 0 \n"
     ]
    }
   ],
   "source": [
    "dtcAccuracy = evaluator.evaluate(dtcPrediction)\n",
    "print(\"Accuracy of LogisticRegression is = %g\"% (dtcAccuracy))\n",
    "print(\"Test Error of LogisticRegression = %g \" % (1.0 - dtcAccuracy))"
   ]
  },
  {
   "attachments": {},
   "cell_type": "markdown",
   "metadata": {},
   "source": [
    "### RandomForestClassifier\n",
    " "
   ]
  },
  {
   "cell_type": "code",
   "execution_count": 27,
   "metadata": {},
   "outputs": [],
   "source": [
    "from pyspark.ml.classification import RandomForestClassifier\n",
    "\n",
    "rfc = RandomForestClassifier(labelCol=\"loan_index\", featuresCol=\"features\")\n",
    "\n",
    "rfcModel = dtc.fit(train)\n",
    "rfcPrediction = dtcModel.transform(test)\n"
   ]
  },
  {
   "cell_type": "code",
   "execution_count": 28,
   "metadata": {},
   "outputs": [
    {
     "name": "stdout",
     "output_type": "stream",
     "text": [
      "+---+----------+-------+---------+-------+-------+-------+----+---------+---+-----+--------+--------+-----+--------+--------+-------+---------+--------------+-------------+--------------+---------------+----------------+-------------+--------------+-------------+--------------+----------+-------------+-------------+--------------+--------------+---------------+--------------------+-------------+-----------+----------+\n",
      "|age|       job|marital|education|default|balance|housing|loan|  contact|day|month|duration|campaign|pdays|previous|poutcome|deposit|job_index|    job_onehot|marital_index|marital_onehot|education_index|education_onehot|default_index|default_onehot|housing_index|housing_onehot|loan_index|  loan_onehot|contact_index|contact_onehot|poutcome_index|poutcome_onehot|            features|rawPrediction|probability|prediction|\n",
      "+---+----------+-------+---------+-------+-------+-------+----+---------+---+-----+--------+--------+-----+--------+--------+-------+---------+--------------+-------------+--------------+---------------+----------------+-------------+--------------+-------------+--------------+----------+-------------+-------------+--------------+--------------+---------------+--------------------+-------------+-----------+----------+\n",
      "| 18|   student| single|  unknown|     no|    108|     no|  no| cellular|  9|  feb|      92|       1|  183|       1| success|    yes|      7.0|(12,[7],[1.0])|          1.0| (3,[1],[1.0])|            3.0|   (4,[3],[1.0])|          0.0| (2,[0],[1.0])|          0.0| (2,[0],[1.0])|       0.0|(2,[0],[1.0])|          0.0| (3,[0],[1.0])|           2.0|  (4,[2],[1.0])|(32,[7,13,18,19,2...| [6803.0,0.0]|  [1.0,0.0]|       0.0|\n",
      "| 18|   student| single|  unknown|     no|    108|     no|  no| cellular| 10|  aug|     167|       1|   -1|       0| unknown|    yes|      7.0|(12,[7],[1.0])|          1.0| (3,[1],[1.0])|            3.0|   (4,[3],[1.0])|          0.0| (2,[0],[1.0])|          0.0| (2,[0],[1.0])|       0.0|(2,[0],[1.0])|          0.0| (3,[0],[1.0])|           0.0|  (4,[0],[1.0])|(32,[7,13,18,19,2...| [6803.0,0.0]|  [1.0,0.0]|       0.0|\n",
      "| 19|   student| single|secondary|     no|     55|     no|  no|telephone|  6|  oct|      89|       2|  193|       1|   other|     no|      7.0|(12,[7],[1.0])|          1.0| (3,[1],[1.0])|            0.0|   (4,[0],[1.0])|          0.0| (2,[0],[1.0])|          0.0| (2,[0],[1.0])|       0.0|(2,[0],[1.0])|          2.0| (3,[2],[1.0])|           3.0|  (4,[3],[1.0])|(32,[7,13,15,19,2...| [6803.0,0.0]|  [1.0,0.0]|       0.0|\n",
      "| 19|   student| single|secondary|     no|    302|     no|  no| cellular| 16|  jul|     205|       1|   -1|       0| unknown|    yes|      7.0|(12,[7],[1.0])|          1.0| (3,[1],[1.0])|            0.0|   (4,[0],[1.0])|          0.0| (2,[0],[1.0])|          0.0| (2,[0],[1.0])|       0.0|(2,[0],[1.0])|          0.0| (3,[0],[1.0])|           0.0|  (4,[0],[1.0])|(32,[7,13,15,19,2...| [6803.0,0.0]|  [1.0,0.0]|       0.0|\n",
      "| 19|   student| single|secondary|     no|    329|     no|  no| cellular| 22|  oct|     252|       2|   -1|       0| unknown|    yes|      7.0|(12,[7],[1.0])|          1.0| (3,[1],[1.0])|            0.0|   (4,[0],[1.0])|          0.0| (2,[0],[1.0])|          0.0| (2,[0],[1.0])|       0.0|(2,[0],[1.0])|          0.0| (3,[0],[1.0])|           0.0|  (4,[0],[1.0])|(32,[7,13,15,19,2...| [6803.0,0.0]|  [1.0,0.0]|       0.0|\n",
      "| 19|   student| single|secondary|     no|    329|     no|  no| cellular| 30|  apr|     169|       1|  190|       2| success|    yes|      7.0|(12,[7],[1.0])|          1.0| (3,[1],[1.0])|            0.0|   (4,[0],[1.0])|          0.0| (2,[0],[1.0])|          0.0| (2,[0],[1.0])|       0.0|(2,[0],[1.0])|          0.0| (3,[0],[1.0])|           2.0|  (4,[2],[1.0])|(32,[7,13,15,19,2...| [6803.0,0.0]|  [1.0,0.0]|       0.0|\n",
      "| 19|   student| single|secondary|     no|    394|     no|  no| cellular|  5|  apr|     327|       3|   -1|       0| unknown|    yes|      7.0|(12,[7],[1.0])|          1.0| (3,[1],[1.0])|            0.0|   (4,[0],[1.0])|          0.0| (2,[0],[1.0])|          0.0| (2,[0],[1.0])|       0.0|(2,[0],[1.0])|          0.0| (3,[0],[1.0])|           0.0|  (4,[0],[1.0])|(32,[7,13,15,19,2...| [6803.0,0.0]|  [1.0,0.0]|       0.0|\n",
      "| 19|   student| single|  unknown|     no|     60|     no|  no| cellular| 14|  aug|     253|       1|   -1|       0| unknown|     no|      7.0|(12,[7],[1.0])|          1.0| (3,[1],[1.0])|            3.0|   (4,[3],[1.0])|          0.0| (2,[0],[1.0])|          0.0| (2,[0],[1.0])|       0.0|(2,[0],[1.0])|          0.0| (3,[0],[1.0])|           0.0|  (4,[0],[1.0])|(32,[7,13,18,19,2...| [6803.0,0.0]|  [1.0,0.0]|       0.0|\n",
      "| 20|    admin.| single|secondary|     no|    336|     no| yes| cellular|  5|  jun|     133|       1|   -1|       0| unknown|     no|      3.0|(12,[3],[1.0])|          1.0| (3,[1],[1.0])|            0.0|   (4,[0],[1.0])|          0.0| (2,[0],[1.0])|          0.0| (2,[0],[1.0])|       1.0|(2,[1],[1.0])|          0.0| (3,[0],[1.0])|           0.0|  (4,[0],[1.0])|(32,[3,13,15,19,2...| [0.0,1022.0]|  [0.0,1.0]|       1.0|\n",
      "| 20|   student| single|  primary|     no|   6991|     no|  no| cellular| 12|  aug|     178|       2|   -1|       0| unknown|    yes|      7.0|(12,[7],[1.0])|          1.0| (3,[1],[1.0])|            2.0|   (4,[2],[1.0])|          0.0| (2,[0],[1.0])|          0.0| (2,[0],[1.0])|       0.0|(2,[0],[1.0])|          0.0| (3,[0],[1.0])|           0.0|  (4,[0],[1.0])|(32,[7,13,17,19,2...| [6803.0,0.0]|  [1.0,0.0]|       0.0|\n",
      "| 20|   student| single|secondary|     no|    153|     no|  no|  unknown| 21|  jun|     100|       1|   -1|       0| unknown|    yes|      7.0|(12,[7],[1.0])|          1.0| (3,[1],[1.0])|            0.0|   (4,[0],[1.0])|          0.0| (2,[0],[1.0])|          0.0| (2,[0],[1.0])|       0.0|(2,[0],[1.0])|          1.0| (3,[1],[1.0])|           0.0|  (4,[0],[1.0])|(32,[7,13,15,19,2...| [6803.0,0.0]|  [1.0,0.0]|       0.0|\n",
      "| 20|   student| single|secondary|     no|    215|     no|  no| cellular| 24|  nov|     325|       1|   95|       5| success|    yes|      7.0|(12,[7],[1.0])|          1.0| (3,[1],[1.0])|            0.0|   (4,[0],[1.0])|          0.0| (2,[0],[1.0])|          0.0| (2,[0],[1.0])|       0.0|(2,[0],[1.0])|          0.0| (3,[0],[1.0])|           2.0|  (4,[2],[1.0])|(32,[7,13,15,19,2...| [6803.0,0.0]|  [1.0,0.0]|       0.0|\n",
      "| 20|   student| single|secondary|     no|   1819|     no|  no| cellular|  9|  apr|     245|       3|   -1|       0| unknown|    yes|      7.0|(12,[7],[1.0])|          1.0| (3,[1],[1.0])|            0.0|   (4,[0],[1.0])|          0.0| (2,[0],[1.0])|          0.0| (2,[0],[1.0])|       0.0|(2,[0],[1.0])|          0.0| (3,[0],[1.0])|           0.0|  (4,[0],[1.0])|(32,[7,13,15,19,2...| [6803.0,0.0]|  [1.0,0.0]|       0.0|\n",
      "| 20|   student| single|  unknown|     no|    801|     no|  no| cellular| 11|  nov|     244|       2|   -1|       0| unknown|    yes|      7.0|(12,[7],[1.0])|          1.0| (3,[1],[1.0])|            3.0|   (4,[3],[1.0])|          0.0| (2,[0],[1.0])|          0.0| (2,[0],[1.0])|       0.0|(2,[0],[1.0])|          0.0| (3,[0],[1.0])|           0.0|  (4,[0],[1.0])|(32,[7,13,18,19,2...| [6803.0,0.0]|  [1.0,0.0]|       0.0|\n",
      "| 20|   student| single|  unknown|     no|    829|     no|  no| cellular|  9|  jul|     253|       2|   -1|       0| unknown|    yes|      7.0|(12,[7],[1.0])|          1.0| (3,[1],[1.0])|            3.0|   (4,[3],[1.0])|          0.0| (2,[0],[1.0])|          0.0| (2,[0],[1.0])|       0.0|(2,[0],[1.0])|          0.0| (3,[0],[1.0])|           0.0|  (4,[0],[1.0])|(32,[7,13,18,19,2...| [6803.0,0.0]|  [1.0,0.0]|       0.0|\n",
      "| 20|   student| single|  unknown|     no|    829|     no|  no| cellular| 27|  jan|     196|       3|  202|       2| success|    yes|      7.0|(12,[7],[1.0])|          1.0| (3,[1],[1.0])|            3.0|   (4,[3],[1.0])|          0.0| (2,[0],[1.0])|          0.0| (2,[0],[1.0])|       0.0|(2,[0],[1.0])|          0.0| (3,[0],[1.0])|           2.0|  (4,[2],[1.0])|(32,[7,13,18,19,2...| [6803.0,0.0]|  [1.0,0.0]|       0.0|\n",
      "| 21|management| single| tertiary|     no|    243|     no| yes| cellular| 17|  jun|     181|       2|   -1|       0| unknown|     no|      0.0|(12,[0],[1.0])|          1.0| (3,[1],[1.0])|            1.0|   (4,[1],[1.0])|          0.0| (2,[0],[1.0])|          0.0| (2,[0],[1.0])|       1.0|(2,[1],[1.0])|          0.0| (3,[0],[1.0])|           0.0|  (4,[0],[1.0])|(32,[0,13,16,19,2...| [0.0,1022.0]|  [0.0,1.0]|       1.0|\n",
      "| 21|   student| single|  primary|     no|   8278|     no|  no| cellular| 29|  oct|     445|       1|   -1|       0| unknown|    yes|      7.0|(12,[7],[1.0])|          1.0| (3,[1],[1.0])|            2.0|   (4,[2],[1.0])|          0.0| (2,[0],[1.0])|          0.0| (2,[0],[1.0])|       0.0|(2,[0],[1.0])|          0.0| (3,[0],[1.0])|           0.0|  (4,[0],[1.0])|(32,[7,13,17,19,2...| [6803.0,0.0]|  [1.0,0.0]|       0.0|\n",
      "| 21|   student| single|secondary|     no|    123|     no|  no|telephone| 11|  nov|     513|       1|   91|       1| success|    yes|      7.0|(12,[7],[1.0])|          1.0| (3,[1],[1.0])|            0.0|   (4,[0],[1.0])|          0.0| (2,[0],[1.0])|          0.0| (2,[0],[1.0])|       0.0|(2,[0],[1.0])|          2.0| (3,[2],[1.0])|           2.0|  (4,[2],[1.0])|(32,[7,13,15,19,2...| [6803.0,0.0]|  [1.0,0.0]|       0.0|\n",
      "| 21|   student| single|secondary|     no|    357|     no|  no| cellular|  2|  sep|     115|       3|   -1|       0| unknown|     no|      7.0|(12,[7],[1.0])|          1.0| (3,[1],[1.0])|            0.0|   (4,[0],[1.0])|          0.0| (2,[0],[1.0])|          0.0| (2,[0],[1.0])|       0.0|(2,[0],[1.0])|          0.0| (3,[0],[1.0])|           0.0|  (4,[0],[1.0])|(32,[7,13,15,19,2...| [6803.0,0.0]|  [1.0,0.0]|       0.0|\n",
      "+---+----------+-------+---------+-------+-------+-------+----+---------+---+-----+--------+--------+-----+--------+--------+-------+---------+--------------+-------------+--------------+---------------+----------------+-------------+--------------+-------------+--------------+----------+-------------+-------------+--------------+--------------+---------------+--------------------+-------------+-----------+----------+\n",
      "only showing top 20 rows\n",
      "\n"
     ]
    }
   ],
   "source": [
    "rfcPrediction.show()"
   ]
  },
  {
   "cell_type": "code",
   "execution_count": 29,
   "metadata": {},
   "outputs": [
    {
     "name": "stdout",
     "output_type": "stream",
     "text": [
      "Accuracy of LogisticRegression is = 1\n",
      "Test Error of LogisticRegression = 0 \n"
     ]
    }
   ],
   "source": [
    "rfcAccuracy = evaluator.evaluate(rfcPrediction)\n",
    "print(\"Accuracy of LogisticRegression is = %g\"% (rfcAccuracy))\n",
    "print(\"Test Error of LogisticRegression = %g \" % (1.0 - rfcAccuracy))"
   ]
  }
 ],
 "metadata": {
  "kernelspec": {
   "display_name": "Python 3",
   "language": "python",
   "name": "python3"
  },
  "language_info": {
   "codemirror_mode": {
    "name": "ipython",
    "version": 3
   },
   "file_extension": ".py",
   "mimetype": "text/x-python",
   "name": "python",
   "nbconvert_exporter": "python",
   "pygments_lexer": "ipython3",
   "version": "3.9.2"
  },
  "orig_nbformat": 4
 },
 "nbformat": 4,
 "nbformat_minor": 2
}
